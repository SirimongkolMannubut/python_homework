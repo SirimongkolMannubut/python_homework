{
 "cells": [
  {
   "cell_type": "markdown",
   "id": "b444a2b1-1b6d-4176-8d1f-530254acfdc5",
   "metadata": {},
   "source": [
    "# แบบฝึกหัด บทที่ 5 ตัวแปรและประเภทข้อมูล (Dictionary)"
   ]
  },
  {
   "cell_type": "raw",
   "id": "fe5ae0b4-ef63-4826-accf-7927f7336ce9",
   "metadata": {},
   "source": [
    "\"\"\"\n",
    "ชื่อ - สกุล - รหัส\n",
    "นายศิริมงคล มนูบุตร 6612732129\n",
    "\"\"\""
   ]
  },
  {
   "cell_type": "markdown",
   "id": "ee56ed63-0dad-4888-abb3-dac078c0177c",
   "metadata": {},
   "source": [
    "## 1.\tจงแปลงข้อมูลต่อไปนี้ให้เป็น Dictionary"
   ]
  },
  {
   "cell_type": "code",
   "execution_count": 3,
   "id": "94428f7b-4992-4b2f-9ee0-065385e26a1c",
   "metadata": {},
   "outputs": [
    {
     "data": {
      "text/plain": [
       "' \\n6611127320001 นาย ศักรินทร์ หาญทอง โรงเรียนวัดหลวงวิทยา\\n6611127320002 นาย ทวีพรโชค ดาวจันทร โรงเรียนนาเเก้ววิทยา\\n6611127320003 นาย ฐิราชัย พลหาญ โรงเรียนโขงเจียมวิทยาคม\\n6611127320004 นาย ชานนท์ รูปคุ้ม โรงเรียนบ้านกันทรารมย์\\n'"
      ]
     },
     "execution_count": 3,
     "metadata": {},
     "output_type": "execute_result"
    }
   ],
   "source": [
    "\"\"\" \n",
    "6611127320001 นาย ศักรินทร์ หาญทอง โรงเรียนวัดหลวงวิทยา\n",
    "6611127320002 นาย ทวีพรโชค ดาวจันทร โรงเรียนนาเเก้ววิทยา\n",
    "6611127320003 นาย ฐิราชัย พลหาญ โรงเรียนโขงเจียมวิทยาคม\n",
    "6611127320004 นาย ชานนท์ รูปคุ้ม โรงเรียนบ้านกันทรารมย์\n",
    "\"\"\""
   ]
  },
  {
   "cell_type": "code",
   "execution_count": null,
   "id": "e1e84ee5-5a94-4245-bbeb-72aa64fd1413",
   "metadata": {},
   "outputs": [],
   "source": [
    "\n",
    "my_dict = {\n",
    "    '6611127320001' : {\n",
    "        \n",
    "        'prefix' : 'นาย',\n",
    "        \n",
    "        'frist_name' : 'ศักรินทร์',\n",
    "        \n",
    "        'list_name' : 'หาญทอง',\n",
    "        \n",
    "        'school' : 'โรงเรียนวัดหลวงวิทยา',\n",
    "        \n",
    " },\n",
    " '6611127320002' : {\n",
    "        \n",
    "        'prefix' : 'นาย',\n",
    "        \n",
    "        'frist_name' : 'ฐิราชัย',\n",
    "        \n",
    "        'list_name' : 'ดาวจันทร์',\n",
    "        \n",
    "        'school' : 'โรงเรียนนาเเก้ววิทยา',\n",
    "        \n",
    " },\n",
    "    '6611127320003' : {\n",
    "        \n",
    "        'prefix' : 'นาย',\n",
    "        \n",
    "        'frist_name' : 'ฐิราชัย',\n",
    "        \n",
    "        'list_name' : 'พลหาญ',\n",
    "        \n",
    "        'school' : 'โรงเรียนโขงเจียมวิทยาคม',\n",
    "        \n",
    " },\n",
    "    '6611127320004' : {\n",
    "        \n",
    "        'prefix' : 'นาย',\n",
    "        \n",
    "        'frist_name' : 'ชานนท์',\n",
    "        \n",
    "        'list_name' : 'รูปคุ้ม',\n",
    "        \n",
    "        'school' : 'โรงเรียนบ้านกันทรารมย์',\n",
    "        \n",
    "    }\n",
    "    \n",
    "}\n",
    "\n"
   ]
  },
  {
   "cell_type": "markdown",
   "id": "84f776e2-52c8-471d-867f-4215479ec8ff",
   "metadata": {},
   "source": [
    "## 2.จงแสดงวิธีการเข้าถึงเข้ามูลรายบุคคล"
   ]
  },
  {
   "cell_type": "code",
   "execution_count": null,
   "id": "cbc8398d-c456-4868-972a-9977a7fd5d8a",
   "metadata": {},
   "outputs": [
    {
     "ename": "",
     "evalue": "",
     "output_type": "error",
     "traceback": [
      "\u001b[1;31mRunning cells with 'c:\\Users\\Sirimongkol manubut\\AppData\\Local\\Programs\\Python\\Python312\\python.exe' requires the ipykernel package.\n",
      "\u001b[1;31mRun the following command to install 'ipykernel' into the Python environment. \n",
      "\u001b[1;31mCommand: '\"c:/Users/Sirimongkol manubut/AppData/Local/Programs/Python/Python312/python.exe\" -m pip install ipykernel -U --user --force-reinstall'"
     ]
    }
   ],
   "source": [
    "\n",
    "for key in my_dict.keys():\n",
    "    print(\"{} {} {} {} {}\".format(\n",
    "    key,\n",
    "    my_dict.get(key).get(\"prefix\"),\n",
    "          my_dict.get(key).get(\"frist_name\"),\n",
    "          my_dict.get(key).get(\"list_name\"),\n",
    "          my_dict.get(key).get(\"school\"),\n",
    "    ))\n",
    "\n"
   ]
  }
 ],
 "metadata": {
  "kernelspec": {
   "display_name": "Python 3 (ipykernel)",
   "language": "python",
   "name": "python3"
  },
  "language_info": {
   "codemirror_mode": {
    "name": "ipython",
    "version": 3
   },
   "file_extension": ".py",
   "mimetype": "text/x-python",
   "name": "python",
   "nbconvert_exporter": "python",
   "pygments_lexer": "ipython3",
   "version": "3.12.0"
  }
 },
 "nbformat": 4,
 "nbformat_minor": 5
}
