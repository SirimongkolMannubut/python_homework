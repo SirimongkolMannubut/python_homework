{
 "cells": [
  {
   "cell_type": "markdown",
   "metadata": {},
   "source": [
    "# แบบฝึกหัดบทที่ 4 พื้นฐานโปรแกรมไพธอน"
   ]
  },
  {
   "cell_type": "code",
   "execution_count": null,
   "metadata": {},
   "outputs": [],
   "source": [
    "\"\"\" \n",
    "ชื่อ - สกุล - รหัสนักศึกษา\n",
    "\n",
    "นายศิริมงคล มนูบุตร 6612732129 \n",
    "\"\"\""
   ]
  },
  {
   "cell_type": "markdown",
   "metadata": {},
   "source": [
    "## 1. จงอธิบายความหมายของคำว่า Syntax"
   ]
  },
  {
   "cell_type": "markdown",
   "metadata": {},
   "source": [
    "# คำตอบ\n",
    "หลักไวยากรณ์ คือ ข้อกำหนดในการเขียนโปรแกรมที่ตัวแปรภาษาสามารถประมวลผล และเข้าใจได้\n"
   ]
  },
  {
   "cell_type": "markdown",
   "metadata": {},
   "source": [
    "## 2.จงอธิบายความหมายของคำว่า Semantics"
   ]
  },
  {
   "cell_type": "code",
   "execution_count": null,
   "metadata": {},
   "outputs": [],
   "source": [
    "\n",
    "Semantics (โดยคำศัพท์) หมายถึง ความหมายและการวิเคราะห์ว่าเครื่องมือหรือภาษาแบบโปรแกรมมีที่ตรงตามวัตถุประสงค์และความต้องการของผู้ใช้หรือโปรแกรม. ในบริบทของการเขียนโปรแกรมและการพัฒนาซอฟต์แวร์, Semantics เกี่ยวกับวิธีที่โค้ดหรือโครงสร้างข้อมูลในโปรแกรมแปลความหมายและพฤติกรรมของโปรแกรมเมื่อถูกดำเนินการหรือรัน.\n",
    "\n",
    "Semantics มีบทบาทสำคัญในการตรวจสอบความถูกต้องของโค้ดและการควบคุมวิเคราะห์ความหมายของโค้ดอย่างมีประสิทธิภาพ ซึ่งรวมถึงการตรวจสอบข้อผิดพลาดเชิงตรรกะ (syntactical errors) และข้อผิดพลาดทางความหมาย (semantic errors) ในโค้ด.\n",
    "\n",
    "นอกจากนี้, Semantics ยังเกี่ยวข้องกับการอธิบายวิธีที่โค้ดทำงานหรือปฏิบัติการบนข้อมูล หรือโครงสร้างข้อมูล ซึ่งรวมถึงการแสดงความหมายของฟังก์ชัน, คลาส, หรือวัตถุอื่น ๆ ในโปรแกรม. Semantics ระบุว่าการใช้งานตัวแปรหรือฟังก์ชันจะมีผลอย่างไรต่อข้อมูลและการทำงานของโปรแกรม.\n",
    "\n",
    "สรุปคือ Semantics เป็นการศึกษาและระบุความหมายและพฤติกรรมของโปรแกรมหรือภาษาโปรแกรมในบริบทของการพัฒนาและการทำงานของโค้ด ซึ่งมีบทบาทสำคัญในการควบคุมและแก้ไขข้อผิดพลาดในโค้ดและการตรวจสอบความถูกต้องของโปรแกรม.\n",
    "\n",
    "\n",
    "\n",
    "\n",
    "\n"
   ]
  },
  {
   "cell_type": "markdown",
   "metadata": {},
   "source": [
    "## 3.Identifiers คืออะไร"
   ]
  },
  {
   "cell_type": "code",
   "execution_count": null,
   "metadata": {},
   "outputs": [],
   "source": [
    "# คำตอบ\n",
    "\n",
    "Identifiers (ระบุตัว) ในโปรแกรมคอมพิวเตอร์คือชื่อหรือเครื่องหมายที่ใช้ในโค้ดเพื่อระบุสิ่งต่าง ๆ เช่น ตัวแปร, ฟังก์ชัน, คลาส, โมดูล, หรืออ็อบเจกต์ ซึ่งช่วยให้โปรแกรมเมื่อต้องการอ้างถึงและใช้งานสิ่งนั้นในโค้ด. Identifiers ต้องประกอบด้วยตัวอักษร (A-Z, a-z) และตัวเลข (0-9) รวมถึงขีดล่าง (_) แต่ต้องเริ่มต้นด้วยตัวอักษรหรือขีดล่าง และไม่สามารถใช้คำสงวน (reserved words) ในภาษาที่คุณใช้เป็น Identifiers."
   ]
  },
  {
   "cell_type": "markdown",
   "metadata": {},
   "source": [
    "## 4.คำสงวนในภาษาไพธอนคืออะไร และมีทั้งหมดกี่คำ"
   ]
  },
  {
   "cell_type": "code",
   "execution_count": null,
   "metadata": {},
   "outputs": [],
   "source": [
    "# คำตอบ\n",
    "คำสงวน (reserved words) ในภาษา Python คือคำที่มีความหมายทางโค้ดและถูกใช้เป็นคำสำคัญในการสร้างโค้ด Python ซึ่งไม่สามารถนำมาเป็นชื่อตัวแปรหรือฟังก์ชันได้ คำสงวนมีทั้งหมด 35 คำใน Python 3.9:\n",
    "\n",
    "False\n",
    "None\n",
    "True\n",
    "and\n",
    "as\n",
    "assert\n",
    "async\n",
    "await\n",
    "break\n",
    "class\n",
    "continue\n",
    "def\n",
    "del\n",
    "elif\n",
    "else\n",
    "except\n",
    "finally\n",
    "for\n",
    "from\n",
    "global\n",
    "if\n",
    "import\n",
    "in\n",
    "is\n",
    "lambda\n",
    "nonlocal\n",
    "not\n",
    "or\n",
    "pass\n",
    "raise\n",
    "return\n",
    "try\n",
    "while\n",
    "with\n",
    "yield\n"
   ]
  },
  {
   "cell_type": "markdown",
   "metadata": {},
   "source": [
    "## 5.จงเขียนโปรแกรมไพธอนเพื่อรับข้อมูล ที่เป็นชื่อผู้ใช้งานจากแป้นพิมพ์และแสดงออกทางหน้าจอ"
   ]
  },
  {
   "cell_type": "code",
   "execution_count": null,
   "metadata": {},
   "outputs": [],
   "source": [
    "# พิมพ์โค้ดโปรแกรมด้านล่างนี้\n",
    "a = input(\"your name\")\n",
    "print(\"a\")\n"
   ]
  },
  {
   "cell_type": "markdown",
   "metadata": {},
   "source": [
    "## 6.จงเขียนโปรแกรมเพื่อแสดงค่าของ pi คือ 3.14159 ออกทางหน้าจอโดยทำการกำหนดรูปแบบในการแสดงผลดังต่อไปนี้\n",
    "\n",
    "- pi = 3\n",
    "- pi = 3.14\n",
    "- pi = 3.1416\n"
   ]
  },
  {
   "cell_type": "code",
   "execution_count": null,
   "metadata": {},
   "outputs": [],
   "source": [
    "# พิมพ์โค้ดโปรแกรมด้านล่างนี้\n",
    "\n",
    "pi = 3.1416\n",
    "print(\"{0:.0f}\"format(pi))"
   ]
  },
  {
   "cell_type": "markdown",
   "metadata": {},
   "source": []
  },
  {
   "cell_type": "markdown",
   "metadata": {},
   "source": [
    "## 7.\tจงเขียนโปรแกรมที่แสดงคำว่า \"dog\", \"cat\", \"bat\" ออกทางหน้าจอ โดยกำหนดรูปแบบในการแสดงดังต่อไปนี้"
   ]
  },
  {
   "cell_type": "code",
   "execution_count": null,
   "metadata": {},
   "outputs": [],
   "source": [
    "\"\"\" \n",
    "|dog       |   cat    |       bat| \n",
    "\"\"\""
   ]
  },
  {
   "cell_type": "code",
   "execution_count": 4,
   "metadata": {},
   "outputs": [
    {
     "name": "stdout",
     "output_type": "stream",
     "text": [
      "|dog\t|   cat\t|       bat|\n"
     ]
    }
   ],
   "source": [
    "# พิมพ์โค้ดโปรแกรมด้านล่างนี้\n",
    "print(\"|dog\\t|   cat\\t|       bat|\")\n",
    "\n"
   ]
  },
  {
   "cell_type": "markdown",
   "metadata": {},
   "source": [
    "## 8.\tจงเขียนโปรแกรมที่แสดงคำว่า \"dog\", \"cat\", \"bat\" ออกทางหน้าจอ โดยกำหนดรูปแบบในการแสดงดังต่อไปนี้"
   ]
  },
  {
   "cell_type": "code",
   "execution_count": null,
   "metadata": {},
   "outputs": [],
   "source": [
    "\"\"\" \n",
    "|dog*******|***cat****|*******bat| \n",
    "\"\"\""
   ]
  },
  {
   "cell_type": "code",
   "execution_count": 5,
   "metadata": {},
   "outputs": [
    {
     "name": "stdout",
     "output_type": "stream",
     "text": [
      "|dog*******|***cat****|*******bat|\n"
     ]
    }
   ],
   "source": [
    "# พิมพ์โค้ดโปรแกรมด้านล่างนี้\n",
    "\n",
    "print(\"|dog*******|***cat****|*******bat|\")\n",
    "\n"
   ]
  },
  {
   "cell_type": "code",
   "execution_count": null,
   "metadata": {},
   "outputs": [],
   "source": []
  }
 ],
 "metadata": {
  "interpreter": {
   "hash": "40d3a090f54c6569ab1632332b64b2c03c39dcf918b08424e98f38b5ae0af88f"
  },
  "kernelspec": {
   "display_name": "Python 3 (ipykernel)",
   "language": "python",
   "name": "python3"
  },
  "language_info": {
   "codemirror_mode": {
    "name": "ipython",
    "version": 3
   },
   "file_extension": ".py",
   "mimetype": "text/x-python",
   "name": "python",
   "nbconvert_exporter": "python",
   "pygments_lexer": "ipython3",
   "version": "3.11.5"
  }
 },
 "nbformat": 4,
 "nbformat_minor": 4
}
