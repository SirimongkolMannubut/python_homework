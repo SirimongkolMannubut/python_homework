{
 "cells": [
  {
   "cell_type": "markdown",
   "metadata": {},
   "source": [
    "# แบบฝึกหัด บทที่ 5 ตัวแปรและประเภทข้อมูล"
   ]
  },
  {
   "cell_type": "code",
   "execution_count": null,
   "metadata": {},
   "outputs": [],
   "source": [
    "\"\"\"\n",
    "ชื่อ - สกุล - รหัส\n",
    "นายศิริมงคล มนูบุตร 6612732129\n",
    "\"\"\""
   ]
  },
  {
   "cell_type": "markdown",
   "metadata": {},
   "source": [
    "## 1.\tประเภทของตัวเลขที่ภาษาไพธอนให้การรองรับมีอะไรบ้าง"
   ]
  },
  {
   "cell_type": "code",
   "execution_count": null,
   "metadata": {},
   "outputs": [],
   "source": [
    "\"\"\"\n",
    "คำตอบ\n",
    "\"\"\"\n",
    "จำนวนเต็ม (Integers): ประเภท int ใช้เก็บค่าจำนวนเต็ม อย่างเช่น -1, 0, 100.\n",
    "\n",
    "จำนวนทศนิยม (Floating-Point Numbers): ประเภท float ใช้เก็บค่าทศนิยม อย่างเช่น 3.14, 0.0, -2.5.\n",
    "\n",
    "จำนวนเชิงซับซ้อน (Complex Numbers): ประเภท complex ใช้เก็บจำนวนเชิงซับซ้อน โดยมีส่วนจริงและส่วนจินตภาพ อย่างเช่น 1+2j, 3-4j.\n"
   ]
  },
  {
   "cell_type": "markdown",
   "metadata": {},
   "source": [
    "## 2.จงแสดงชนิดข้อมูลของตัวแปร a และ b"
   ]
  },
  {
   "cell_type": "code",
   "execution_count": null,
   "metadata": {},
   "outputs": [],
   "source": [
    "\"\"\"\n",
    "a = 15.50\n",
    "b = ‘Python’ \n",
    "จงแสดงชนิดข้อมูลของตัวแปร a และ b\n",
    "\"\"\""
   ]
  },
  {
   "cell_type": "code",
   "execution_count": 15,
   "metadata": {},
   "outputs": [
    {
     "name": "stdout",
     "output_type": "stream",
     "text": [
      "<class 'float'>\n",
      "<class 'str'>\n"
     ]
    }
   ],
   "source": [
    "\"\"\"\n",
    "คำตอบ\n",
    "\"\"\"\n",
    "a = 15.50\n",
    "b = 'Python'\n",
    "\n",
    "print(type(a))   # แสดงชนิดข้อมูลของตัวแปร a\n",
    "print(type(b))   # แสดงชนิดข้อมูลของตัวแปร b\n",
    "\n"
   ]
  },
  {
   "cell_type": "markdown",
   "metadata": {},
   "source": [
    "## 3.จงใช้คำสั่ง print() เพื่อแสดงสตริงต่อไปนี้\n",
    "\n",
    "- Jane's teacher says \"You have to study hard\" –"
   ]
  },
  {
   "cell_type": "code",
   "execution_count": 11,
   "metadata": {},
   "outputs": [
    {
     "name": "stdout",
     "output_type": "stream",
     "text": [
      "Jane's teacher says \"You have to study hard\"-\n"
     ]
    }
   ],
   "source": [
    "\"\"\"\n",
    "คำตอบ\n",
    "\"\"\"\n",
    "print(\"Jane's teacher says \\\"You have to study hard\\\"-\")\n"
   ]
  },
  {
   "cell_type": "markdown",
   "metadata": {},
   "source": [
    "## 4.\tจงแสดงผลลัพธ์ของคำสั่งต่อไปนี้ "
   ]
  },
  {
   "cell_type": "code",
   "execution_count": null,
   "metadata": {},
   "outputs": [],
   "source": [
    "\"\"\"\n",
    "print(\"{2} {0} {1}\".format(\"apple\", \n",
    "         \"pineapple\", \n",
    "         \"banana\"))\n",
    "\"\"\""
   ]
  },
  {
   "cell_type": "markdown",
   "metadata": {},
   "source": [
    "banana apple pineapple"
   ]
  },
  {
   "cell_type": "markdown",
   "metadata": {},
   "source": [
    "## 5. กำหนดให้ตัวแปร "
   ]
  },
  {
   "cell_type": "code",
   "execution_count": null,
   "metadata": {},
   "outputs": [],
   "source": [
    "\"\"\"\n",
    "pi = 3.141592653589\n",
    "จงแสดงค่าของตัวแปร pi ออกทางหน้าจอให้มีทศนิยมเพียง 3 จุด\n",
    "\"\"\""
   ]
  },
  {
   "cell_type": "code",
   "execution_count": 13,
   "metadata": {},
   "outputs": [
    {
     "name": "stdout",
     "output_type": "stream",
     "text": [
      "3.142\n"
     ]
    }
   ],
   "source": [
    "\"\"\"\n",
    "คำตอบ\n",
    "\"\"\"\n",
    "pi = 3.141592653589\n",
    "formatted_pi = \"{:.3f}\".format(pi)\n",
    "print(formatted_pi)"
   ]
  },
  {
   "cell_type": "markdown",
   "metadata": {},
   "source": [
    "## 6.กำหนดให้ \n",
    "\n",
    "str = \"Python Programming\"\n",
    "\n",
    "จงหาผลลัพธ์ของ str[7:]\n"
   ]
  },
  {
   "cell_type": "code",
   "execution_count": 14,
   "metadata": {},
   "outputs": [
    {
     "name": "stdout",
     "output_type": "stream",
     "text": [
      "Programming\n"
     ]
    }
   ],
   "source": [
    "\"\"\"\n",
    "คำตอบ\n",
    "\"\"\"\n",
    "str = \"Python Programming\"\n",
    "print(str[7:])\n"
   ]
  },
  {
   "cell_type": "markdown",
   "metadata": {},
   "source": [
    "## 7.จงอธิบายความแตกต่างระหว่างลิสต์และทัพเพิล"
   ]
  },
  {
   "cell_type": "code",
   "execution_count": null,
   "metadata": {},
   "outputs": [],
   "source": [
    "\"\"\"\n",
    "คำตอบ\n",
    "\"\"\"\n",
    "\n",
    "ลิสต์ (List) และ ทัพเพิล (Tuple) เป็นโครงสร้างข้อมูลที่ใช้ในภาษา Python เพื่อเก็บกลุ่มของค่าหรืออ็อบเจกต์ แต่มีความแตกต่างสำคัญในด้านตรงไหน:\n",
    "\n",
    "ความเปลี่ยนแปลง (Mutability):\n",
    "\n",
    "ลิสต์: ลิสต์เป็นอ็อบเจกต์ที่เปลี่ยนแปลงได้ (mutable) ซึ่งหมายความว่าคุณสามารถเพิ่ม, ลบ, หรือแก้ไขสมาชิกในลิสต์หลังจากสร้างมันได้.\n",
    "ทัพเพิล: ทัพเพิลเป็นอ็อบเจกต์ที่ไม่เปลี่ยนแปลง (immutable) ซึ่งหมายความว่าหลังจากสร้างทัพเพิลแล้วคุณไม่สามารถเปลี่ยนแปลงสมาชิกข้างในได้. ถ้าคุณต้องการเปลี่ยนแปลงค่าในทัพเพิล,คุณจะต้องสร้างทัพเพิลใหม่.\n",
    "การใช้ลูป (Iteration):\n",
    "\n",
    "ลิสต์: คุณสามารถใช้ลูปเพื่อวนลูปผ่านสมาชิกในลิสต์ โดยใช้ for ร่วมกับ in ได้.\n",
    "ทัพเพิล: คุณก็สามารถใช้ลูปเพื่อวนลูปผ่านทัพเพิลได้เช่นกัน, โดยใช้ for ร่วมกับ in.\n",
    "การสร้าง (Creation):\n",
    "\n",
    "ลิสต์: สร้างลิสต์โดยใช้วงเล็บเหลี่ยม [] และคั่นสมาชิกด้วยเครื่องหมายจุลภาค , เช่น [1, 2, 3].\n",
    "ทัพเพิล: สร้างทัพเพิลโดยใช้วงเล็บ () และคั่นสมาชิกด้วยเครื่องหมายจุลภาค , เช่น (1, 2, 3).\n",
    "การเข้าถึงสมาชิก (Accessing Elements):\n",
    "\n",
    "ลิสต์: คุณสามารถเข้าถึงสมาชิกในลิสต์ด้วยดัชนี (index) และค่าดัชนีของลิสต์เริ่มจาก 0.\n",
    "ทัพเพิล: คุณก็สามารถเข้าถึงสมาชิกในทัพเพิลด้วยดัชนี และการใช้ดัชนีในทัพเพิลเช่นเดียวกันกับลิสต์.\n",
    "ความเร็ว (Performance):\n",
    "\n",
    "ลิสต์: ลิสต์มีประสิทธิภาพในการเพิ่มหรือลบสมาชิก แต่มีความช้าในการค้นหาสมาชิกแต่ละตัวในกรณีข้อมูลขนาดใหญ่.\n",
    "ทัพเพิล: ทัพเพิลมีประสิทธิภาพในการค้นหาสมาชิกแต่ละตัว แต่ไม่สามารถเพิ่มหรือลบสมาชิกได้หลังจากสร้าง."
   ]
  },
  {
   "cell_type": "code",
   "execution_count": null,
   "metadata": {},
   "outputs": [],
   "source": []
  }
 ],
 "metadata": {
  "interpreter": {
   "hash": "40d3a090f54c6569ab1632332b64b2c03c39dcf918b08424e98f38b5ae0af88f"
  },
  "kernelspec": {
   "display_name": "Python 3 (ipykernel)",
   "language": "python",
   "name": "python3"
  },
  "language_info": {
   "codemirror_mode": {
    "name": "ipython",
    "version": 3
   },
   "file_extension": ".py",
   "mimetype": "text/x-python",
   "name": "python",
   "nbconvert_exporter": "python",
   "pygments_lexer": "ipython3",
   "version": "3.11.5"
  }
 },
 "nbformat": 4,
 "nbformat_minor": 4
}
